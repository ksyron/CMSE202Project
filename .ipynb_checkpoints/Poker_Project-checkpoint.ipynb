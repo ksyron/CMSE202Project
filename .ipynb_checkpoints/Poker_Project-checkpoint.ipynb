{
 "cells": [
  {
   "cell_type": "code",
   "execution_count": 4,
   "id": "b3274ad4-467c-4221-b836-813545e0ef03",
   "metadata": {},
   "outputs": [],
   "source": [
    "# Model and predict Best poker move to make based on simulated/historic games\n",
    "import numpy as np\n",
    "import pandas as pd\n",
    "import matplotlib.pyplot as plt\n",
    "import random\n",
    "import seaborn as sns\n",
    "import sklearn as svm\n"
   ]
  },
  {
   "cell_type": "markdown",
   "id": "5ff02c25-d85e-43c9-929a-4b34fc36ff15",
   "metadata": {},
   "source": [
    "\n",
    "royal_flush = \n",
    "\n",
    "straight_flush = \n",
    "\n",
    "four_of_a_kind = \n",
    "\n",
    "full_house = \n",
    "\n",
    "flush = \n",
    "\n",
    "straight = \n",
    "\n",
    "three_of_a_kind = \n",
    "\n",
    "two_pair = \n",
    "\n",
    "pair = \n"
   ]
  },
  {
   "cell_type": "code",
   "execution_count": 44,
   "id": "fb0e6c0f-d394-40a8-87c2-05a4149470ea",
   "metadata": {},
   "outputs": [],
   "source": [
    "# We identify the hand\n",
    "# Store a variable called hand_type\n",
    "# Now we need to see how it ranks\n",
    "#\n",
    "def hand_type_rank(hand_type = 'none'):\n",
    "    print('your hand is:', hand_type)\n",
    "    if hand_type == 'royal_flush': \n",
    "        rank = 1\n",
    "        print('You have the best hand possible!')\n",
    "        # should I calculate the probability somehow or just quote factual probabilities?\n",
    "    elif hand_type == 'straight_flush':\n",
    "        rank = 2\n",
    "        print('You have the second best hand possible!')\n",
    "        \n",
    "    elif hand_type == 'four_of_a_kind':\n",
    "        rank = 3\n",
    "        print('You have the third best hand possible!')\n",
    "        \n",
    "    elif hand_type == 'full_house':\n",
    "        rank = 4\n",
    "        print('You have the fourth best hand possible')\n",
    "        \n",
    "    elif hand_type == 'flush':\n",
    "        rank = 5\n",
    "        print('You have the fifth best hand possible')\n",
    "        \n",
    "    elif hand_type == 'straight':\n",
    "        rank = 6\n",
    "        print('You have the sixth best hand possible')\n",
    "        \n",
    "    elif hand_type == 'three_of_a_kind':\n",
    "        rank = 7\n",
    "        print('You have the seventh best hand possible')\n",
    "        \n",
    "    elif hand_type == 'two_pair':\n",
    "        rank = 8\n",
    "        print('You have the eighth best hand possible')\n",
    "        \n",
    "    elif hand_type == 'pair':\n",
    "        rank = 9\n",
    "        print('You have the ninth best hand possible')\n",
    "        \n",
    "    else:\n",
    "        print('you have to rely on your highest card')\n"
   ]
  },
  {
   "cell_type": "code",
   "execution_count": 41,
   "id": "2b330102-e403-4f1a-bb5e-72b68ec3e945",
   "metadata": {},
   "outputs": [
    {
     "name": "stdout",
     "output_type": "stream",
     "text": [
      "your hand is: three_of_a_kind\n",
      "You have the seventh best hand possible\n"
     ]
    }
   ],
   "source": [
    "hand_type_rank('three_of_a_kind')"
   ]
  },
  {
   "cell_type": "code",
   "execution_count": 46,
   "id": "43ba0fb3-af03-4269-994f-e03e0815bd04",
   "metadata": {},
   "outputs": [],
   "source": [
    "# Probability of win\n",
    "# Rank of hand matters cause King is higher than 10 VVV IMP\n",
    "# Check/Fold at every step"
   ]
  },
  {
   "cell_type": "code",
   "execution_count": null,
   "id": "51873d6d-8610-4486-8aad-cdbac0b440bb",
   "metadata": {},
   "outputs": [],
   "source": []
  }
 ],
 "metadata": {
  "kernelspec": {
   "display_name": "Python 3.11 (default)",
   "language": "python",
   "name": "python3"
  },
  "language_info": {
   "codemirror_mode": {
    "name": "ipython",
    "version": 3
   },
   "file_extension": ".py",
   "mimetype": "text/x-python",
   "name": "python",
   "nbconvert_exporter": "python",
   "pygments_lexer": "ipython3",
   "version": "3.11.9"
  }
 },
 "nbformat": 4,
 "nbformat_minor": 5
}
