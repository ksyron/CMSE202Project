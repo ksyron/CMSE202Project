{
 "cells": [
  {
   "cell_type": "code",
   "execution_count": null,
   "id": "2f58f7bb-49cf-4379-af0c-4f01a50515b6",
   "metadata": {},
   "outputs": [],
   "source": [
    "class Evaluate_hand_preflop:\n",
    "    def __init__(self,hand):\n",
    "        self.hand = hand\n",
    "        from treys import Card, Deck, Evaluator\n",
    "        deck = Deck()\n",
    "\n",
    "# No board cards yet\n",
    "        board = []\n",
    "\n",
    "# Perform a Monte Carlo simulation to approximate hand strength\n",
    "        simulations = 2000  # Number of random boards to evaluate against\n",
    "        win_count = 0\n",
    "\n",
    "        for _ in range(simulations):\n",
    "\n",
    "            deck.cards.remove(hand[0])  # Remove the cards in the hand\n",
    "            deck.cards.remove(hand[1])\n",
    "\n",
    "    # Draw a random 5-card board\n",
    "            random_board = deck.draw(5)\n",
    "\n",
    "    # Evaluate hand against a random board\n",
    "            score = evaluator.evaluate(board=random_board, hand=hand)\n",
    "    \n",
    "    # Consider the score as a proxy for strength (lower is better in treys)\n",
    "        if score < 7462 / 2:  # A threshold for reasonable \"strength\" can be added here\n",
    "            win_count += 1\n",
    "\n",
    "# Calculate the probability of winning\n",
    "    win_probability = win_count / simulations\n",
    "\n",
    "    print(f\"Estimated pre-flop hand strength (win probability): {win_probability * 100:.2f}%\")"
   ]
  },
  {
   "cell_type": "code",
   "execution_count": null,
   "id": "28f1235d-f41f-4c2f-9f41-2ec86f5ea026",
   "metadata": {},
   "outputs": [],
   "source": [
    "class Hand_ranking:\n",
    "    def __init__(self,hand,board):\n",
    "        deckT = Deck()\n",
    "        my_hand = deckT.draw(2)\n",
    "\n",
    "        deckT.cards.remove(my_hand[0])  # Remove the cards in the hand\n",
    "        deckT.cards.remove(my_hand[1])\n",
    "        print(len(deckT.cards))\n",
    "        theboard = \n",
    "        my_score = evaluator.evaluate(theboard,my_hand)\n",
    "        my_class = evaluator.get_rank_class(my_score)\n",
    "    print(my_class)"
   ]
  }
 ],
 "metadata": {
  "kernelspec": {
   "display_name": "Python 3.11 (default)",
   "language": "python",
   "name": "python3"
  },
  "language_info": {
   "codemirror_mode": {
    "name": "ipython",
    "version": 3
   },
   "file_extension": ".py",
   "mimetype": "text/x-python",
   "name": "python",
   "nbconvert_exporter": "python",
   "pygments_lexer": "ipython3",
   "version": "3.11.9"
  }
 },
 "nbformat": 4,
 "nbformat_minor": 5
}
