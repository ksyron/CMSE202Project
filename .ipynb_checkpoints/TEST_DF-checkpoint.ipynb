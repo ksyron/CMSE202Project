{
 "cells": [
  {
   "cell_type": "code",
   "execution_count": 1,
   "id": "7157ea19-2e15-4e6a-988d-1f2fc46f7b27",
   "metadata": {},
   "outputs": [],
   "source": [
    "import numpy as np\n",
    "import pandas as pd\n",
    "import matplotlib.pyplot as plt\n",
    "import random\n",
    "import seaborn as sns\n",
    "import sklearn as svm"
   ]
  },
  {
   "cell_type": "code",
   "execution_count": 34,
   "id": "99879519-8182-4253-a063-bd0fb2891072",
   "metadata": {},
   "outputs": [],
   "source": [
    "class Card:\n",
    "    def __init__(self,suit,score):\n",
    "        self.suit = suit\n",
    "        self.score = score\n",
    "        if score == 1:\n",
    "            rank = 'Ace'\n",
    "\n",
    "        elif score == 2:\n",
    "            rank = '2'\n",
    "\n",
    "        elif score == 3:\n",
    "            rank = '3'\n",
    "\n",
    "        elif score == 4:\n",
    "            rank = '4'\n",
    "\n",
    "        elif score == 5:\n",
    "            rank = '5'\n",
    "\n",
    "        elif score == 6:\n",
    "            rank = '6'\n",
    "\n",
    "        elif score == 7:\n",
    "            rank = '7'\n",
    "\n",
    "        elif score == 8:\n",
    "            rank = '8'\n",
    "\n",
    "        elif score == 9:\n",
    "            rank = '9'\n",
    "\n",
    "        elif score == 10:\n",
    "            rank = '10'\n",
    "\n",
    "        elif score == 11:\n",
    "            rank ='Jack'\n",
    "\n",
    "        elif score == 12:\n",
    "            rank ='Queen'\n",
    "\n",
    "        else:\n",
    "            rank = 'King'\n",
    "        self.rank = rank\n",
    "        self.name = self.rank + ' of '+ self.suit\n",
    "\n",
    "    def get_name(self):\n",
    "        return self.name\n",
    "\n",
    "    def get_rank(self):\n",
    "        return self.rank\n",
    "\n",
    "    def get_suit(self):\n",
    "        return self.suit"
   ]
  },
  {
   "cell_type": "code",
   "execution_count": 35,
   "id": "ffa9c822-33a5-4179-8fc8-8497dd614f2b",
   "metadata": {},
   "outputs": [],
   "source": [
    "suits = ['Hearts','Diamonds','Clubs','Spades']\n",
    "rank = [1,2,3,4,5,6,7,8,9,10,11,12,13]"
   ]
  },
  {
   "cell_type": "code",
   "execution_count": 36,
   "id": "3f6c344c-7056-4e11-8740-d1d6cf8eb7ba",
   "metadata": {},
   "outputs": [
    {
     "data": {
      "text/plain": [
       "'Ace of Spades'"
      ]
     },
     "execution_count": 36,
     "metadata": {},
     "output_type": "execute_result"
    }
   ],
   "source": [
    "Card1 = Card('Spades',1)\n",
    "Card1.get_name()"
   ]
  },
  {
   "cell_type": "code",
   "execution_count": 37,
   "id": "2d0fd578-9979-4ee0-8371-017034e3565c",
   "metadata": {},
   "outputs": [],
   "source": [
    "T_deck = []\n",
    "for s in suits:\n",
    "    for r in rank:\n",
    "        card_t = Card(s,r)\n",
    "        T_deck.append(card_t)\n"
   ]
  },
  {
   "cell_type": "code",
   "execution_count": 38,
   "id": "cb03cee4-4f86-4139-915b-913ebca63c51",
   "metadata": {},
   "outputs": [],
   "source": [
    "class Deck:\n",
    "    def __init__(self,name):\n",
    "        self.name = name\n",
    "        tdeck = []\n",
    "        for s in suits:\n",
    "            for r in rank:\n",
    "                tcard = Card(s,r)\n",
    "                tdeck.append(tcard)\n",
    "        self.cards = tdeck"
   ]
  },
  {
   "cell_type": "code",
   "execution_count": 50,
   "id": "d13e6d0c-23b2-4e28-914c-80c0ffc94b85",
   "metadata": {},
   "outputs": [],
   "source": [
    "class Poker:\n",
    "    def __init__(self,Deck):\n",
    "        self.deck = Deck\n",
    "\n",
    "    def draw_hand(self):\n",
    "        hand = []\n",
    "        ind = random.randint(0,51)\n",
    "        Card1 = self.deck.cards[ind]\n",
    "        hand.append(Card1)\n",
    "        ind2 = random.randint(0,51)\n",
    "        while ind == ind2:\n",
    "            ind2 = random.randint(0,51)\n",
    "\n",
    "        Card2 = self.deck.cards[ind2]\n",
    "        hand.append(Card2)\n",
    "        return hand\n",
    "\n",
    "    def display_hand(self,hand):\n",
    "        for aa in hand:\n",
    "            print(aa.get_name())\n",
    "\n",
    "    def Begin_game(self):\n",
    "        house = []\n",
    "        self.draw_hand()\n",
    "        \n",
    "\n",
    "    def Draw_turn(self):\n",
    "        pass\n",
    "\n",
    "    def Draw_river(self):\n",
    "        pass\n"
   ]
  },
  {
   "cell_type": "code",
   "execution_count": 49,
   "id": "08a3e00c-3cc9-4689-ae1d-8cc149e7b4fb",
   "metadata": {},
   "outputs": [
    {
     "name": "stdout",
     "output_type": "stream",
     "text": [
      "7 of Hearts\n",
      "7 of Clubs\n"
     ]
    }
   ],
   "source": [
    "Test_Deck = Deck('Test')\n",
    "\n",
    "Test_Poker = Poker(Test_Deck)\n",
    "\n",
    "test_hand = Test_Poker.draw_hand()\n",
    "\n",
    "Test_Poker.display_hand(test_hand)"
   ]
  },
  {
   "cell_type": "code",
   "execution_count": null,
   "id": "686d07f1-b2e6-469b-a26f-8f208e10bf7c",
   "metadata": {},
   "outputs": [],
   "source": []
  }
 ],
 "metadata": {
  "kernelspec": {
   "display_name": "Python 3.11 (default)",
   "language": "python",
   "name": "python3"
  },
  "language_info": {
   "codemirror_mode": {
    "name": "ipython",
    "version": 3
   },
   "file_extension": ".py",
   "mimetype": "text/x-python",
   "name": "python",
   "nbconvert_exporter": "python",
   "pygments_lexer": "ipython3",
   "version": "3.11.9"
  }
 },
 "nbformat": 4,
 "nbformat_minor": 5
}
