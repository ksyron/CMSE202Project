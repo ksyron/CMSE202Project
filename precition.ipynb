{
 "cells": [
  {
   "cell_type": "code",
   "execution_count": 1,
   "id": "6104dd94-55e2-4303-903a-329f79c6dd73",
   "metadata": {},
   "outputs": [],
   "source": [
    "import numpy as np\n",
    "import pandas as pd\n",
    "import matplotlib.pyplot as plt\n",
    "import random\n",
    "import seaborn as sns\n",
    "import sklearn as svm"
   ]
  },
  {
   "cell_type": "code",
   "execution_count": 2,
   "id": "e90175d3-6e75-40ed-8fb5-d4a2f2d61453",
   "metadata": {},
   "outputs": [],
   "source": [
    "class Card:\n",
    "    def __init__(self,suit,score):\n",
    "        self.suit = suit\n",
    "        self.score = score\n",
    "        if score == 1:\n",
    "            rank = 'Ace'\n",
    "\n",
    "        elif score == 2:\n",
    "            rank = '2'\n",
    "\n",
    "        elif score == 3:\n",
    "            rank = '3'\n",
    "\n",
    "        elif score == 4:\n",
    "            rank = '4'\n",
    "\n",
    "        elif score == 5:\n",
    "            rank = '5'\n",
    "\n",
    "        elif score == 6:\n",
    "            rank = '6'\n",
    "\n",
    "        elif score == 7:\n",
    "            rank = '7'\n",
    "\n",
    "        elif score == 8:\n",
    "            rank = '8'\n",
    "\n",
    "        elif score == 9:\n",
    "            rank = '9'\n",
    "\n",
    "        elif score == 10:\n",
    "            rank = '10'\n",
    "\n",
    "        elif score == 11:\n",
    "            rank ='Jack'\n",
    "\n",
    "        elif score == 12:\n",
    "            rank ='Queen'\n",
    "\n",
    "        else:\n",
    "            rank = 'King'\n",
    "        self.rank = rank\n",
    "        self.name = self.rank + \" \"+ self.suit\n",
    "\n",
    "    def get_name(self):\n",
    "        return self.name\n",
    "\n",
    "    def get_rank(self):\n",
    "        return self.rank\n",
    "\n",
    "    def get_suit(self):\n",
    "        return self.suit"
   ]
  },
  {
   "cell_type": "code",
   "execution_count": 3,
   "id": "f80e5d71-bb9f-47d6-a417-1cbae211c84b",
   "metadata": {},
   "outputs": [],
   "source": [
    "suits = ['Hearts','Diamonds','Clubs','Spades']\n",
    "rank = [1,2,3,4,5,6,7,8,9,10,11,12,13]"
   ]
  },
  {
   "cell_type": "code",
   "execution_count": 4,
   "id": "452b1c43-4f88-4047-a358-f6095d84658a",
   "metadata": {},
   "outputs": [],
   "source": [
    "T_deck = []\n",
    "for s in suits:\n",
    "    for r in rank:\n",
    "        card_t = Card(s,r)\n",
    "        T_deck.append(card_t)\n"
   ]
  },
  {
   "cell_type": "code",
   "execution_count": 5,
   "id": "4e926494-e9ab-412a-b1c7-910d0955f21d",
   "metadata": {},
   "outputs": [],
   "source": [
    "class Deck:\n",
    "    def __init__(self,name):\n",
    "        self.name = name\n",
    "        tdeck = []\n",
    "        for s in suits:\n",
    "            for r in rank:\n",
    "                tcard = Card(s,r)\n",
    "                tdeck.append(tcard)\n",
    "        self.cards = tdeck"
   ]
  },
  {
   "cell_type": "code",
   "execution_count": 6,
   "id": "3b23c631-f87d-4b91-bcea-7d02fd3988ff",
   "metadata": {},
   "outputs": [],
   "source": [
    "#### INITIAL CODE DO NOT CHANGE\n",
    "class Poker:\n",
    "    def __init__(self,Deck):\n",
    "        self.deck = Deck\n",
    "\n",
    "    def Draw_hand(self):\n",
    "        hand = []\n",
    "        index = []\n",
    "        ind = random.randint(0,51)\n",
    "        Card1 = self.deck.cards[ind]\n",
    "        hand.append(Card1)\n",
    "        ind2 = random.randint(0,51)\n",
    "        while ind == ind2:\n",
    "            ind2 = random.randint(0,51)\n",
    "\n",
    "        Card2 = self.deck.cards[ind2]\n",
    "        hand.append(Card2)\n",
    "        index.append(ind)\n",
    "        index.append(ind2)\n",
    "        hand_name=[]\n",
    "        for aa in hand:\n",
    "            hand_name.append(aa.get_name())\n",
    "        return hand\n",
    "\n",
    "    def display_hand(self,hand):\n",
    "        hand_name = []\n",
    "        for aa in hand:\n",
    "            hand_name.append(aa.get_name())\n",
    "        return hand_name\n",
    "\n",
    "    def Draw_Flop(self):\n",
    "        house = []\n",
    "        c1 = random.randint(0,51)\n",
    "        c2 = random.randint(0,51)\n",
    "        c3 = random.randint(0,51)\n",
    "        while c1 == c2 or c2 == c3 or c1 == c3:\n",
    "            c1 = random.randint(0,51)\n",
    "            c2 = random.randint(0,51)\n",
    "            c3 = random.randint(0,51)\n",
    "        F1 = self.deck.cards[c1]\n",
    "        F2 = self.deck.cards[c2]\n",
    "        F3 = self.deck.cards[c3]\n",
    "        house.append(F1)\n",
    "        house.append(F2)\n",
    "        house.append(F3)\n",
    "        return house\n",
    "\n",
    "    def Begin_Game(self):\n",
    "        house = self.Draw_Flop()\n",
    "        hand = self.Draw_hand()\n",
    "        for bb in hand:\n",
    "            if bb in house:\n",
    "                house = self.Draw_Flop()\n",
    "        \n",
    "        return(house, hand)\n",
    "\n",
    "    def Draw_turn(self,house,hand):\n",
    "        turn = []\n",
    "        c4 = random.randint(0,51)\n",
    "        F4 = self.deck.cards[c4]\n",
    "        turn.append(F4)\n",
    "        for dd in turn:\n",
    "            if dd in house or dd in hand:\n",
    "                turn[0] = self.deck.cards[random.randint(0,51)]\n",
    "        return turn  \n",
    "\n",
    "    def Begin_Game2(self,house,hand):\n",
    "        turn = self.Draw_turn(house,hand)\n",
    "        turn_card = turn[0]\n",
    "        house.append(turn_card)\n",
    "        \n",
    "        return house, hand\n",
    "\n",
    "    def Draw_river(self,house,hand):\n",
    "        river = []\n",
    "        c5 = random.randint(0,51)\n",
    "        F5 = self.deck.cards[c5]\n",
    "        river.append(F5)\n",
    "        for ee in river:\n",
    "            if ee in house or ee in hand:\n",
    "                river[0] = self.deck.cards[random.randint(0,51)]\n",
    "        return river\n",
    "\n",
    "    def Begin_Game3(self,house,hand):\n",
    "        river = self.Draw_river(house,hand)\n",
    "        river_card = river[0]\n",
    "        house.append(river_card)\n",
    "        \n",
    "        return house, hand\n",
    "\n",
    "##### INITIAL CODE DO NOT CHANGE"
   ]
  },
  {
   "cell_type": "code",
   "execution_count": 7,
   "id": "d63c7d19-3764-4d9c-9f8b-f682164935ab",
   "metadata": {},
   "outputs": [
    {
     "data": {
      "text/plain": [
       "['6 Spades', 'Jack Spades']"
      ]
     },
     "execution_count": 7,
     "metadata": {},
     "output_type": "execute_result"
    }
   ],
   "source": [
    "Test_Deck = Deck('Test')\n",
    "\n",
    "Test_Poker = Poker(Test_Deck)\n",
    "\n",
    "test_hand = Test_Poker.Draw_hand()\n",
    "\n",
    "Test_Poker.display_hand(test_hand)"
   ]
  },
  {
   "cell_type": "code",
   "execution_count": 8,
   "id": "a0a35d4d-1097-44a1-af3f-6df4d74ca4cd",
   "metadata": {},
   "outputs": [
    {
     "name": "stdout",
     "output_type": "stream",
     "text": [
      "['Ace Clubs', 'Ace Spades'] ['King Clubs', '3 Hearts', 'Queen Clubs']\n",
      "['Ace Clubs', 'Ace Spades'] ['King Clubs', '3 Hearts', 'Queen Clubs', 'Ace Diamonds']\n",
      "['Ace Clubs', 'Ace Spades'] ['King Clubs', '3 Hearts', 'Queen Clubs', 'Ace Diamonds', '6 Hearts']\n"
     ]
    }
   ],
   "source": [
    "house, hand = Test_Poker.Begin_Game()\n",
    "d_hand = Test_Poker.display_hand(hand)\n",
    "d_house = Test_Poker.display_hand(house)\n",
    "print(d_hand,d_house)\n",
    "house, hand = Test_Poker.Begin_Game2(house,hand)\n",
    "d_hand = Test_Poker.display_hand(hand)\n",
    "d_house = Test_Poker.display_hand(house)\n",
    "print(d_hand,d_house)\n",
    "house, hand = Test_Poker.Begin_Game3(house,hand)\n",
    "d_hand = Test_Poker.display_hand(hand)\n",
    "d_house = Test_Poker.display_hand(house)\n",
    "print(d_hand,d_house)"
   ]
  },
  {
   "cell_type": "code",
   "execution_count": 10,
   "id": "e1da08a8-0efb-4ae8-bddf-e1dfa94cf03e",
   "metadata": {},
   "outputs": [],
   "source": [
    "class User():\n",
    "    def __init__(self,name,hand,house):\n",
    "        self.names = name\n",
    "        rank_mapping = {\n",
    "                \"2\": 2, \"3\": 3, \"4\": 4, \"5\": 5, \"6\": 6, \"7\": 7, \"8\": 8, \"9\": 9,\n",
    "                \"10\": 10, \"jack\": 11, \"queen\": 12, \"king\": 13, \"ace\": 14\n",
    "            }\n",
    "        self.rank_mapping = rank_mapping\n",
    "        self.hand =hand\n",
    "        self.house = house\n",
    "    def flop_cards(self):\n",
    "        del_card1 = self.house[0]\n",
    "        self.del_card1 = del_card1\n",
    "        del_card1_parts = self.del_card1.split(\" \")\n",
    "        if len(del_card1_parts) == 2:\n",
    "            rank_card1, suit_card1 = del_card1_parts\n",
    "            self.suit_card1 = suit_card1  # Assign the suit part to suit_card1\n",
    "            \n",
    "\n",
    "            # Assign the rank if it exists in the mapping\n",
    "            self.rank_card1 = self.rank_mapping.get(rank_card1.lower(), None)\n",
    "        else:\n",
    "            print(\"Invalid input format for the dealer's first card.\")\n",
    "        del_card2 = self.house[1]\n",
    "        self.del_card2 = del_card2\n",
    "        del_card2_parts = self.del_card2.split(\" \")\n",
    "        if len(del_card2_parts) == 2:\n",
    "            rank_card2, suit_card2 = del_card2_parts\n",
    "            self.suit_card2 = suit_card2  # Assign the suit part to suit_card1\n",
    "            self.rank_card2 = self.rank_mapping.get(rank_card2.lower(), None)\n",
    "        else:\n",
    "            print(\"Invalid input format for the dealer's first card.\")\n",
    "        del_card3 = self.house[2]\n",
    "        self.del_card3 = del_card3\n",
    "        del_card3_parts = self.del_card3.split(\" \")\n",
    "        if len(del_card3_parts) == 2:\n",
    "            rank_card3, suit_card3 = del_card3_parts\n",
    "            self.suit_card3 = suit_card3  # Assign the suit part to suit_card1\n",
    "            self.rank_card3 = self.rank_mapping.get(rank_card3.lower(), None)\n",
    "        else:\n",
    "            print(\"Invalid input format for the dealer's first card.\")\n",
    "    def turn(self):\n",
    "        turn_card = self.house[3]\n",
    "        self.turn_card = turn_card\n",
    "        turn_card_parts = self.turn_card.split(\" \")\n",
    "        if len(turn_card_parts) == 2:\n",
    "            turn_rank, turn_suit = turn_card_parts\n",
    "            self.suit_turn_card = turn_suit  # Assign the suit part to suit_card1\n",
    "            self.turn_rank = self.rank_mapping.get(turn_rank.lower(), None)\n",
    "        else:\n",
    "            print(\"Invalid input format for the dealer's first card.\")\n",
    "    def river(self):\n",
    "        river_card = self.house[4]\n",
    "        self.river_card = river_card\n",
    "        river_card_parts = self.river_card.split(\" \")\n",
    "        if len(river_card_parts) == 2:\n",
    "            river_rank, river_suit = river_card_parts\n",
    "            self.suit_river_card = river_suit  # Assign the suit part to suit_card1\n",
    "            self.river_rank = self.rank_mapping.get(river_rank.lower(), None)\n",
    "        else:\n",
    "            print(\"Invalid input format for the dealer's first card.\")\n",
    "    def player(self):\n",
    "       \n",
    "        self.player_card1 = self.hand[0]\n",
    "        player1_card_parts = self.self.player_card1.split(\" \")\n",
    "        if len(player1_card_parts) == 2:\n",
    "            player1_rank, player1_suit = player1_card_parts\n",
    "            self.player1_suit = player1_suit  # Assign the suit part to suit_card1\n",
    "            self.player1_rank = self.rank_mapping.get(player1_rank.lower(), None)\n",
    "        else:\n",
    "            print(\"Invalid input format for the dealer's first card.\")\n",
    "        \n",
    "            \n",
    "    \n"
   ]
  },
  {
   "cell_type": "code",
   "execution_count": 19,
   "id": "68182a8e-e1f5-48f4-a3b4-a4d97dce1fe2",
   "metadata": {},
   "outputs": [
    {
     "data": {
      "text/plain": [
       "<bound method User.player of <__main__.User object at 0x7feb19e2e7d0>>"
      ]
     },
     "execution_count": 19,
     "metadata": {},
     "output_type": "execute_result"
    }
   ],
   "source": [
    "First_hand = User(\"new\",d_hand,d_house)\n",
    "First_hand.\n",
    "\n"
   ]
  },
  {
   "cell_type": "code",
   "execution_count": 23,
   "id": "ff113807-b67f-4360-8c81-91e7fd8d1303",
   "metadata": {},
   "outputs": [],
   "source": []
  },
  {
   "cell_type": "code",
   "execution_count": 21,
   "id": "18d841a7-97d0-4799-83e4-e858b6410bd6",
   "metadata": {},
   "outputs": [
    {
     "data": {
      "text/plain": [
       "6"
      ]
     },
     "execution_count": 21,
     "metadata": {},
     "output_type": "execute_result"
    }
   ],
   "source": [
    "First_hand."
   ]
  },
  {
   "cell_type": "code",
   "execution_count": null,
   "id": "ac256d43-9a8e-4329-ab5f-032a7c2fbd2d",
   "metadata": {},
   "outputs": [],
   "source": []
  }
 ],
 "metadata": {
  "kernelspec": {
   "display_name": "Python 3.11 (default)",
   "language": "python",
   "name": "python3"
  },
  "language_info": {
   "codemirror_mode": {
    "name": "ipython",
    "version": 3
   },
   "file_extension": ".py",
   "mimetype": "text/x-python",
   "name": "python",
   "nbconvert_exporter": "python",
   "pygments_lexer": "ipython3",
   "version": "3.11.9"
  }
 },
 "nbformat": 4,
 "nbformat_minor": 5
}
