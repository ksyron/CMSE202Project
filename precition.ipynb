{
 "cells": [
  {
   "cell_type": "code",
   "execution_count": 15,
   "id": "e1da08a8-0efb-4ae8-bddf-e1dfa94cf03e",
   "metadata": {},
   "outputs": [],
   "source": [
    "class User():\n",
    "    def __init__(self,name):\n",
    "        self.names = name\n",
    "        rank_mapping = {\n",
    "                \"2\": 2, \"3\": 3, \"4\": 4, \"5\": 5, \"6\": 6, \"7\": 7, \"8\": 8, \"9\": 9,\n",
    "                \"10\": 10, \"jack\": 11, \"queen\": 12, \"king\": 13, \"ace\": 14\n",
    "            }\n",
    "        self.rank_mapping = rank_mapping\n",
    "    def flop_cards(self):\n",
    "        del_card1 = input(\"What is the dealer's first card? (e.g., '10 hearts')\")\n",
    "        self.del_card1 = del_card1\n",
    "        del_card1_parts = self.del_card1.split(\" \")\n",
    "        if len(del_card1_parts) == 2:\n",
    "            rank_card1, suit_card1 = del_card1_parts\n",
    "            self.suit_card1 = suit_card1  # Assign the suit part to suit_card1\n",
    "            \n",
    "\n",
    "            # Assign the rank if it exists in the mapping\n",
    "            self.rank_card1 = self.rank_mapping.get(rank_card1.lower(), None)\n",
    "        else:\n",
    "            print(\"Invalid input format for the dealer's first card.\")\n",
    "        del_card2 = input(\"What is the dealers secound card?(e.g., '10 hearts')\")\n",
    "        self.del_card2 = del_card2\n",
    "        del_card2_parts = self.del_card2.split(\" \")\n",
    "        if len(del_card2_parts) == 2:\n",
    "            rank_card2, suit_card2 = del_card2_parts\n",
    "            self.suit_card2 = suit_card2  # Assign the suit part to suit_card1\n",
    "            self.rank_card2 = self.rank_mapping.get(rank_card2.lower(), None)\n",
    "        else:\n",
    "            print(\"Invalid input format for the dealer's first card.\")\n",
    "        del_card3 = input(\"What is the dealers third card?(e.g., '10 hearts')\")\n",
    "        self.del_card3 = del_card3\n",
    "        del_card3_parts = self.del_card3.split(\" \")\n",
    "        if len(del_card3_parts) == 2:\n",
    "            rank_card3, suit_card3 = del_card3_parts\n",
    "            self.suit_card3 = suit_card3  # Assign the suit part to suit_card1\n",
    "            self.rank_card3 = self.rank_mapping.get(rank_card3.lower(), None)\n",
    "        else:\n",
    "            print(\"Invalid input format for the dealer's first card.\")\n",
    "    def turn(self):\n",
    "        turn_card = input(\"What is the dealers fourth card?(e.g., '10 hearts')\")\n",
    "        self.turn_card = turn_card\n",
    "        turn_card_parts = self.turn_card.split(\" \")\n",
    "        if len(turn_card_parts) == 2:\n",
    "            turn_rank, turn_suit = turn_card_parts\n",
    "            self.suit_turn_card = turn_suit  # Assign the suit part to suit_card1\n",
    "            self.turn_rank = self.rank_mapping.get(turn_rank.lower(), None)\n",
    "        else:\n",
    "            print(\"Invalid input format for the dealer's first card.\")\n",
    "    def river(self):\n",
    "        river_card = input(\"What is the dealers fifth card?(e.g., '10 hearts')\")\n",
    "        self.river_card = river_card\n",
    "        river_card_parts = self.river_card.split(\" \")\n",
    "        if len(river_card_parts) == 2:\n",
    "            river_rank, river_suit = river_card_parts\n",
    "            self.suit_river_card = river_suit  # Assign the suit part to suit_card1\n",
    "            self.river_rank = self.rank_mapping.get(river_rank.lower(), None)\n",
    "        else:\n",
    "            print(\"Invalid input format for the dealer's first card.\")\n",
    "        \n",
    "            \n",
    "    \n"
   ]
  },
  {
   "cell_type": "code",
   "execution_count": 16,
   "id": "68182a8e-e1f5-48f4-a3b4-a4d97dce1fe2",
   "metadata": {},
   "outputs": [
    {
     "name": "stdin",
     "output_type": "stream",
     "text": [
      "What is the dealer's first card? (e.g., '10 hearts') king hearts\n",
      "What is the dealers secound card?(e.g., '10 hearts') 9 spades\n",
      "What is the dealers third card?(e.g., '10 hearts') 10 spades\n"
     ]
    }
   ],
   "source": [
    "First_hand = User(\"new\")\n",
    "First_hand.flop_cards()"
   ]
  },
  {
   "cell_type": "code",
   "execution_count": 17,
   "id": "ff113807-b67f-4360-8c81-91e7fd8d1303",
   "metadata": {},
   "outputs": [
    {
     "name": "stdin",
     "output_type": "stream",
     "text": [
      "What is the dealers fifth card?(e.g., '10 hearts') ace hearts\n"
     ]
    }
   ],
   "source": [
    "First_hand.river()"
   ]
  },
  {
   "cell_type": "code",
   "execution_count": 18,
   "id": "18d841a7-97d0-4799-83e4-e858b6410bd6",
   "metadata": {},
   "outputs": [
    {
     "data": {
      "text/plain": [
       "14"
      ]
     },
     "execution_count": 18,
     "metadata": {},
     "output_type": "execute_result"
    }
   ],
   "source": [
    "First_hand.river_rank"
   ]
  },
  {
   "cell_type": "code",
   "execution_count": null,
   "id": "ac256d43-9a8e-4329-ab5f-032a7c2fbd2d",
   "metadata": {},
   "outputs": [],
   "source": []
  }
 ],
 "metadata": {
  "kernelspec": {
   "display_name": "Python 3.11 (default)",
   "language": "python",
   "name": "python3"
  },
  "language_info": {
   "codemirror_mode": {
    "name": "ipython",
    "version": 3
   },
   "file_extension": ".py",
   "mimetype": "text/x-python",
   "name": "python",
   "nbconvert_exporter": "python",
   "pygments_lexer": "ipython3",
   "version": "3.11.9"
  }
 },
 "nbformat": 4,
 "nbformat_minor": 5
}
